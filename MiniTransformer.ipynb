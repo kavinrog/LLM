{
 "cells": [
  {
   "cell_type": "code",
   "execution_count": 2,
   "id": "8ef393e8",
   "metadata": {},
   "outputs": [],
   "source": [
    "import torch\n",
    "import torch.nn as nn \n",
    "import torch.nn.functional as F\n",
    "import torch.optim as optim \n",
    "import torch.utils.data as data"
   ]
  },
  {
   "cell_type": "code",
   "execution_count": null,
   "id": "5dac9a89",
   "metadata": {},
   "outputs": [],
   "source": [
    "class MiniTransformer(nn.Module):\n",
    "    def __init__(self, embedding_dim, ff_dim):\n",
    "        super(MiniTransformer,self).__init__()\n",
    "        self.attn = nn.MultiheadAttention(embed_dim=embedding_dim, num_heads=4)\n",
    "        self.norm1 = nn.LayerNorm(embedding_dim)\n",
    "        self.ffn = nn.Sequential(\n",
    "            nn.Linear(embedding_dim, ff_dim),\n",
    "            nn.ReLU(),\n",
    "            nn.Linear(ff_dim ,embedding_dim)\n",
    "        )\n",
    "        self.norm2 = nn.LayerNorm(embedding_dim)\n",
    "    def forward(self, x):\n",
    "        self.attn_out, _ = self.attn(x, x, x)\n",
    "        x = self.norm1(x+self.attn_out)\n",
    "        self.ffn_out = self.ffn(x)\n",
    "        x = self.norm2(x+self.ffn_out)\n",
    "        return x\n",
    "    "
   ]
  },
  {
   "cell_type": "code",
   "execution_count": null,
   "id": "eb9f0ac0",
   "metadata": {},
   "outputs": [],
   "source": []
  }
 ],
 "metadata": {
  "kernelspec": {
   "display_name": "llmenv",
   "language": "python",
   "name": "python3"
  },
  "language_info": {
   "codemirror_mode": {
    "name": "ipython",
    "version": 3
   },
   "file_extension": ".py",
   "mimetype": "text/x-python",
   "name": "python",
   "nbconvert_exporter": "python",
   "pygments_lexer": "ipython3",
   "version": "3.11.9"
  }
 },
 "nbformat": 4,
 "nbformat_minor": 5
}
